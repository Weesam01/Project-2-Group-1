{
 "cells": [
  {
   "cell_type": "code",
   "execution_count": 21,
   "id": "76bac355-4d4f-45e8-9f02-385f6f5a5f36",
   "metadata": {
    "tags": []
   },
   "outputs": [],
   "source": [
    "# Import the modules\n",
    "import numpy as np\n",
    "import pandas as pd\n",
    "from pathlib import Path\n",
    "from sklearn.metrics import balanced_accuracy_score\n",
    "from sklearn.metrics import confusion_matrix\n",
    "from imblearn.metrics import classification_report_imbalanced\n",
    "\n",
    "import warnings\n",
    "warnings.filterwarnings('ignore')"
   ]
  },
  {
   "cell_type": "code",
   "execution_count": 22,
   "id": "6e7860e1-96fd-4aa0-b48a-d0ea61309979",
   "metadata": {
    "tags": []
   },
   "outputs": [
    {
     "data": {
      "text/html": [
       "<div>\n",
       "<style scoped>\n",
       "    .dataframe tbody tr th:only-of-type {\n",
       "        vertical-align: middle;\n",
       "    }\n",
       "\n",
       "    .dataframe tbody tr th {\n",
       "        vertical-align: top;\n",
       "    }\n",
       "\n",
       "    .dataframe thead th {\n",
       "        text-align: right;\n",
       "    }\n",
       "</style>\n",
       "<table border=\"1\" class=\"dataframe\">\n",
       "  <thead>\n",
       "    <tr style=\"text-align: right;\">\n",
       "      <th></th>\n",
       "      <th>Unnamed: 0.1</th>\n",
       "      <th>Unnamed: 0</th>\n",
       "      <th>Timestamp</th>\n",
       "      <th>From Bank</th>\n",
       "      <th>Account</th>\n",
       "      <th>To Bank</th>\n",
       "      <th>Account.1</th>\n",
       "      <th>Amount Received</th>\n",
       "      <th>Receiving Currency</th>\n",
       "      <th>Amount Paid</th>\n",
       "      <th>Payment Currency</th>\n",
       "      <th>Payment Format</th>\n",
       "      <th>Is Laundering</th>\n",
       "    </tr>\n",
       "  </thead>\n",
       "  <tbody>\n",
       "    <tr>\n",
       "      <th>0</th>\n",
       "      <td>67687</td>\n",
       "      <td>2244693</td>\n",
       "      <td>2022/09/04 18:45</td>\n",
       "      <td>220</td>\n",
       "      <td>80FD4ABB0</td>\n",
       "      <td>45701</td>\n",
       "      <td>811953270</td>\n",
       "      <td>2316.73</td>\n",
       "      <td>Shekel</td>\n",
       "      <td>2316.73</td>\n",
       "      <td>Shekel</td>\n",
       "      <td>Cheque</td>\n",
       "      <td>0</td>\n",
       "    </tr>\n",
       "    <tr>\n",
       "      <th>1</th>\n",
       "      <td>236093</td>\n",
       "      <td>28714</td>\n",
       "      <td>2022/09/01 00:26</td>\n",
       "      <td>6129</td>\n",
       "      <td>803783EA0</td>\n",
       "      <td>6129</td>\n",
       "      <td>803783EA0</td>\n",
       "      <td>4.65</td>\n",
       "      <td>US Dollar</td>\n",
       "      <td>4.65</td>\n",
       "      <td>US Dollar</td>\n",
       "      <td>Reinvestment</td>\n",
       "      <td>0</td>\n",
       "    </tr>\n",
       "    <tr>\n",
       "      <th>2</th>\n",
       "      <td>158830</td>\n",
       "      <td>2298029</td>\n",
       "      <td>2022/09/05 00:11</td>\n",
       "      <td>217959</td>\n",
       "      <td>80BB7AAF0</td>\n",
       "      <td>221279</td>\n",
       "      <td>81163FEF0</td>\n",
       "      <td>26.15</td>\n",
       "      <td>Euro</td>\n",
       "      <td>26.15</td>\n",
       "      <td>Euro</td>\n",
       "      <td>Credit Card</td>\n",
       "      <td>0</td>\n",
       "    </tr>\n",
       "    <tr>\n",
       "      <th>3</th>\n",
       "      <td>308599</td>\n",
       "      <td>1370981</td>\n",
       "      <td>2022/09/02 07:41</td>\n",
       "      <td>24963</td>\n",
       "      <td>804886150</td>\n",
       "      <td>29435</td>\n",
       "      <td>80E6F68A0</td>\n",
       "      <td>1366.01</td>\n",
       "      <td>Euro</td>\n",
       "      <td>1366.01</td>\n",
       "      <td>Euro</td>\n",
       "      <td>Credit Card</td>\n",
       "      <td>0</td>\n",
       "    </tr>\n",
       "    <tr>\n",
       "      <th>4</th>\n",
       "      <td>362950</td>\n",
       "      <td>4289605</td>\n",
       "      <td>2022/09/09 02:02</td>\n",
       "      <td>14011</td>\n",
       "      <td>801EA7120</td>\n",
       "      <td>13516</td>\n",
       "      <td>805581330</td>\n",
       "      <td>7442.38</td>\n",
       "      <td>Euro</td>\n",
       "      <td>7442.38</td>\n",
       "      <td>Euro</td>\n",
       "      <td>Cheque</td>\n",
       "      <td>0</td>\n",
       "    </tr>\n",
       "    <tr>\n",
       "      <th>...</th>\n",
       "      <td>...</td>\n",
       "      <td>...</td>\n",
       "      <td>...</td>\n",
       "      <td>...</td>\n",
       "      <td>...</td>\n",
       "      <td>...</td>\n",
       "      <td>...</td>\n",
       "      <td>...</td>\n",
       "      <td>...</td>\n",
       "      <td>...</td>\n",
       "      <td>...</td>\n",
       "      <td>...</td>\n",
       "      <td>...</td>\n",
       "    </tr>\n",
       "    <tr>\n",
       "      <th>10152</th>\n",
       "      <td>468589</td>\n",
       "      <td>3014910</td>\n",
       "      <td>2022/09/06 11:43</td>\n",
       "      <td>12</td>\n",
       "      <td>80C67D8B0</td>\n",
       "      <td>33727</td>\n",
       "      <td>80C7ECAA0</td>\n",
       "      <td>31394.07</td>\n",
       "      <td>Mexican Peso</td>\n",
       "      <td>31394.07</td>\n",
       "      <td>Mexican Peso</td>\n",
       "      <td>Credit Card</td>\n",
       "      <td>0</td>\n",
       "    </tr>\n",
       "    <tr>\n",
       "      <th>10153</th>\n",
       "      <td>480524</td>\n",
       "      <td>2686374</td>\n",
       "      <td>2022/09/05 19:38</td>\n",
       "      <td>18196</td>\n",
       "      <td>8031438B0</td>\n",
       "      <td>131928</td>\n",
       "      <td>80FF6AAD0</td>\n",
       "      <td>623.39</td>\n",
       "      <td>Yuan</td>\n",
       "      <td>623.39</td>\n",
       "      <td>Yuan</td>\n",
       "      <td>Cash</td>\n",
       "      <td>0</td>\n",
       "    </tr>\n",
       "    <tr>\n",
       "      <th>10154</th>\n",
       "      <td>169099</td>\n",
       "      <td>4196356</td>\n",
       "      <td>2022/09/08 23:06</td>\n",
       "      <td>1068</td>\n",
       "      <td>800F07400</td>\n",
       "      <td>1068</td>\n",
       "      <td>801A91CF0</td>\n",
       "      <td>14379.35</td>\n",
       "      <td>US Dollar</td>\n",
       "      <td>14379.35</td>\n",
       "      <td>US Dollar</td>\n",
       "      <td>Cheque</td>\n",
       "      <td>0</td>\n",
       "    </tr>\n",
       "    <tr>\n",
       "      <th>10155</th>\n",
       "      <td>238976</td>\n",
       "      <td>972523</td>\n",
       "      <td>2022/09/01 19:48</td>\n",
       "      <td>1024</td>\n",
       "      <td>8068B8B00</td>\n",
       "      <td>16450</td>\n",
       "      <td>809802750</td>\n",
       "      <td>182314.26</td>\n",
       "      <td>Euro</td>\n",
       "      <td>182314.26</td>\n",
       "      <td>Euro</td>\n",
       "      <td>Cheque</td>\n",
       "      <td>0</td>\n",
       "    </tr>\n",
       "    <tr>\n",
       "      <th>10156</th>\n",
       "      <td>11180</td>\n",
       "      <td>1077205</td>\n",
       "      <td>2022/09/01 22:39</td>\n",
       "      <td>212</td>\n",
       "      <td>800098E10</td>\n",
       "      <td>120292</td>\n",
       "      <td>80771F0B0</td>\n",
       "      <td>485.91</td>\n",
       "      <td>UK Pound</td>\n",
       "      <td>485.91</td>\n",
       "      <td>UK Pound</td>\n",
       "      <td>Cheque</td>\n",
       "      <td>0</td>\n",
       "    </tr>\n",
       "  </tbody>\n",
       "</table>\n",
       "<p>10157 rows × 13 columns</p>\n",
       "</div>"
      ],
      "text/plain": [
       "       Unnamed: 0.1  Unnamed: 0         Timestamp  From Bank    Account  \\\n",
       "0             67687     2244693  2022/09/04 18:45        220  80FD4ABB0   \n",
       "1            236093       28714  2022/09/01 00:26       6129  803783EA0   \n",
       "2            158830     2298029  2022/09/05 00:11     217959  80BB7AAF0   \n",
       "3            308599     1370981  2022/09/02 07:41      24963  804886150   \n",
       "4            362950     4289605  2022/09/09 02:02      14011  801EA7120   \n",
       "...             ...         ...               ...        ...        ...   \n",
       "10152        468589     3014910  2022/09/06 11:43         12  80C67D8B0   \n",
       "10153        480524     2686374  2022/09/05 19:38      18196  8031438B0   \n",
       "10154        169099     4196356  2022/09/08 23:06       1068  800F07400   \n",
       "10155        238976      972523  2022/09/01 19:48       1024  8068B8B00   \n",
       "10156         11180     1077205  2022/09/01 22:39        212  800098E10   \n",
       "\n",
       "       To Bank  Account.1  Amount Received Receiving Currency  Amount Paid  \\\n",
       "0        45701  811953270          2316.73             Shekel      2316.73   \n",
       "1         6129  803783EA0             4.65          US Dollar         4.65   \n",
       "2       221279  81163FEF0            26.15               Euro        26.15   \n",
       "3        29435  80E6F68A0          1366.01               Euro      1366.01   \n",
       "4        13516  805581330          7442.38               Euro      7442.38   \n",
       "...        ...        ...              ...                ...          ...   \n",
       "10152    33727  80C7ECAA0         31394.07       Mexican Peso     31394.07   \n",
       "10153   131928  80FF6AAD0           623.39               Yuan       623.39   \n",
       "10154     1068  801A91CF0         14379.35          US Dollar     14379.35   \n",
       "10155    16450  809802750        182314.26               Euro    182314.26   \n",
       "10156   120292  80771F0B0           485.91           UK Pound       485.91   \n",
       "\n",
       "      Payment Currency Payment Format  Is Laundering  \n",
       "0               Shekel         Cheque              0  \n",
       "1            US Dollar   Reinvestment              0  \n",
       "2                 Euro    Credit Card              0  \n",
       "3                 Euro    Credit Card              0  \n",
       "4                 Euro         Cheque              0  \n",
       "...                ...            ...            ...  \n",
       "10152     Mexican Peso    Credit Card              0  \n",
       "10153             Yuan           Cash              0  \n",
       "10154        US Dollar         Cheque              0  \n",
       "10155             Euro         Cheque              0  \n",
       "10156         UK Pound         Cheque              0  \n",
       "\n",
       "[10157 rows x 13 columns]"
      ]
     },
     "execution_count": 22,
     "metadata": {},
     "output_type": "execute_result"
    }
   ],
   "source": [
    "data_df = pd.read_csv(Path(r'C:\\Users\\sergi\\Desktop\\Fintech Bootcamp\\Project 2 group 1\\Sample5.csv'))\n",
    "# Review the DataFrame\n",
    "data_df"
   ]
  },
  {
   "cell_type": "code",
   "execution_count": 33,
   "id": "d1c52ffa-10da-4178-9505-3b0165f03443",
   "metadata": {
    "tags": []
   },
   "outputs": [],
   "source": [
    "data_df.drop(columns=[\"Unnamed: 0.1\",\"Unnamed: 0\",\"Timestamp\"],inplace=True)"
   ]
  },
  {
   "cell_type": "code",
   "execution_count": 34,
   "id": "2c028f48-e0ae-4fab-8b0f-98735010edd1",
   "metadata": {
    "tags": []
   },
   "outputs": [
    {
     "data": {
      "text/html": [
       "<div>\n",
       "<style scoped>\n",
       "    .dataframe tbody tr th:only-of-type {\n",
       "        vertical-align: middle;\n",
       "    }\n",
       "\n",
       "    .dataframe tbody tr th {\n",
       "        vertical-align: top;\n",
       "    }\n",
       "\n",
       "    .dataframe thead th {\n",
       "        text-align: right;\n",
       "    }\n",
       "</style>\n",
       "<table border=\"1\" class=\"dataframe\">\n",
       "  <thead>\n",
       "    <tr style=\"text-align: right;\">\n",
       "      <th></th>\n",
       "      <th>From Bank</th>\n",
       "      <th>To Bank</th>\n",
       "      <th>Amount Received</th>\n",
       "      <th>Amount Paid</th>\n",
       "      <th>Is Laundering</th>\n",
       "    </tr>\n",
       "  </thead>\n",
       "  <tbody>\n",
       "    <tr>\n",
       "      <th>0</th>\n",
       "      <td>220</td>\n",
       "      <td>45701</td>\n",
       "      <td>2316.73</td>\n",
       "      <td>2316.73</td>\n",
       "      <td>0</td>\n",
       "    </tr>\n",
       "    <tr>\n",
       "      <th>1</th>\n",
       "      <td>6129</td>\n",
       "      <td>6129</td>\n",
       "      <td>4.65</td>\n",
       "      <td>4.65</td>\n",
       "      <td>0</td>\n",
       "    </tr>\n",
       "    <tr>\n",
       "      <th>2</th>\n",
       "      <td>217959</td>\n",
       "      <td>221279</td>\n",
       "      <td>26.15</td>\n",
       "      <td>26.15</td>\n",
       "      <td>0</td>\n",
       "    </tr>\n",
       "    <tr>\n",
       "      <th>3</th>\n",
       "      <td>24963</td>\n",
       "      <td>29435</td>\n",
       "      <td>1366.01</td>\n",
       "      <td>1366.01</td>\n",
       "      <td>0</td>\n",
       "    </tr>\n",
       "    <tr>\n",
       "      <th>4</th>\n",
       "      <td>14011</td>\n",
       "      <td>13516</td>\n",
       "      <td>7442.38</td>\n",
       "      <td>7442.38</td>\n",
       "      <td>0</td>\n",
       "    </tr>\n",
       "    <tr>\n",
       "      <th>...</th>\n",
       "      <td>...</td>\n",
       "      <td>...</td>\n",
       "      <td>...</td>\n",
       "      <td>...</td>\n",
       "      <td>...</td>\n",
       "    </tr>\n",
       "    <tr>\n",
       "      <th>10152</th>\n",
       "      <td>12</td>\n",
       "      <td>33727</td>\n",
       "      <td>31394.07</td>\n",
       "      <td>31394.07</td>\n",
       "      <td>0</td>\n",
       "    </tr>\n",
       "    <tr>\n",
       "      <th>10153</th>\n",
       "      <td>18196</td>\n",
       "      <td>131928</td>\n",
       "      <td>623.39</td>\n",
       "      <td>623.39</td>\n",
       "      <td>0</td>\n",
       "    </tr>\n",
       "    <tr>\n",
       "      <th>10154</th>\n",
       "      <td>1068</td>\n",
       "      <td>1068</td>\n",
       "      <td>14379.35</td>\n",
       "      <td>14379.35</td>\n",
       "      <td>0</td>\n",
       "    </tr>\n",
       "    <tr>\n",
       "      <th>10155</th>\n",
       "      <td>1024</td>\n",
       "      <td>16450</td>\n",
       "      <td>182314.26</td>\n",
       "      <td>182314.26</td>\n",
       "      <td>0</td>\n",
       "    </tr>\n",
       "    <tr>\n",
       "      <th>10156</th>\n",
       "      <td>212</td>\n",
       "      <td>120292</td>\n",
       "      <td>485.91</td>\n",
       "      <td>485.91</td>\n",
       "      <td>0</td>\n",
       "    </tr>\n",
       "  </tbody>\n",
       "</table>\n",
       "<p>10157 rows × 5 columns</p>\n",
       "</div>"
      ],
      "text/plain": [
       "       From Bank  To Bank  Amount Received  Amount Paid  Is Laundering\n",
       "0            220    45701          2316.73      2316.73              0\n",
       "1           6129     6129             4.65         4.65              0\n",
       "2         217959   221279            26.15        26.15              0\n",
       "3          24963    29435          1366.01      1366.01              0\n",
       "4          14011    13516          7442.38      7442.38              0\n",
       "...          ...      ...              ...          ...            ...\n",
       "10152         12    33727         31394.07     31394.07              0\n",
       "10153      18196   131928           623.39       623.39              0\n",
       "10154       1068     1068         14379.35     14379.35              0\n",
       "10155       1024    16450        182314.26    182314.26              0\n",
       "10156        212   120292           485.91       485.91              0\n",
       "\n",
       "[10157 rows x 5 columns]"
      ]
     },
     "execution_count": 34,
     "metadata": {},
     "output_type": "execute_result"
    }
   ],
   "source": [
    "data_df"
   ]
  },
  {
   "cell_type": "code",
   "execution_count": 35,
   "id": "a9021cbf-d147-48e8-b3ff-027bdccf6e2a",
   "metadata": {
    "tags": []
   },
   "outputs": [],
   "source": [
    "# Separate the data into labels and features\n",
    "# Separate the y variable, the labels\n",
    "y = data_df[\"Is Laundering\"]\n",
    "# Separate the X variable, the features\n",
    "X = data_df.drop(columns=[\"Is Laundering\"])"
   ]
  },
  {
   "cell_type": "code",
   "execution_count": 36,
   "id": "0a5f61ad-2dbf-4bb9-ac1b-4967399398bc",
   "metadata": {
    "tags": []
   },
   "outputs": [
    {
     "name": "stdout",
     "output_type": "stream",
     "text": [
      "0    0\n",
      "1    0\n",
      "2    0\n",
      "3    0\n",
      "4    0\n",
      "Name: Is Laundering, dtype: int64\n"
     ]
    }
   ],
   "source": [
    "# Review the y variable Series\n",
    "print(y.head())"
   ]
  },
  {
   "cell_type": "code",
   "execution_count": 37,
   "id": "77c403d1-786f-4095-aeeb-b495685b24c7",
   "metadata": {
    "tags": []
   },
   "outputs": [
    {
     "data": {
      "text/html": [
       "<div>\n",
       "<style scoped>\n",
       "    .dataframe tbody tr th:only-of-type {\n",
       "        vertical-align: middle;\n",
       "    }\n",
       "\n",
       "    .dataframe tbody tr th {\n",
       "        vertical-align: top;\n",
       "    }\n",
       "\n",
       "    .dataframe thead th {\n",
       "        text-align: right;\n",
       "    }\n",
       "</style>\n",
       "<table border=\"1\" class=\"dataframe\">\n",
       "  <thead>\n",
       "    <tr style=\"text-align: right;\">\n",
       "      <th></th>\n",
       "      <th>From Bank</th>\n",
       "      <th>To Bank</th>\n",
       "      <th>Amount Received</th>\n",
       "      <th>Amount Paid</th>\n",
       "    </tr>\n",
       "  </thead>\n",
       "  <tbody>\n",
       "    <tr>\n",
       "      <th>0</th>\n",
       "      <td>220</td>\n",
       "      <td>45701</td>\n",
       "      <td>2316.73</td>\n",
       "      <td>2316.73</td>\n",
       "    </tr>\n",
       "    <tr>\n",
       "      <th>1</th>\n",
       "      <td>6129</td>\n",
       "      <td>6129</td>\n",
       "      <td>4.65</td>\n",
       "      <td>4.65</td>\n",
       "    </tr>\n",
       "    <tr>\n",
       "      <th>2</th>\n",
       "      <td>217959</td>\n",
       "      <td>221279</td>\n",
       "      <td>26.15</td>\n",
       "      <td>26.15</td>\n",
       "    </tr>\n",
       "    <tr>\n",
       "      <th>3</th>\n",
       "      <td>24963</td>\n",
       "      <td>29435</td>\n",
       "      <td>1366.01</td>\n",
       "      <td>1366.01</td>\n",
       "    </tr>\n",
       "    <tr>\n",
       "      <th>4</th>\n",
       "      <td>14011</td>\n",
       "      <td>13516</td>\n",
       "      <td>7442.38</td>\n",
       "      <td>7442.38</td>\n",
       "    </tr>\n",
       "  </tbody>\n",
       "</table>\n",
       "</div>"
      ],
      "text/plain": [
       "   From Bank  To Bank  Amount Received  Amount Paid\n",
       "0        220    45701          2316.73      2316.73\n",
       "1       6129     6129             4.65         4.65\n",
       "2     217959   221279            26.15        26.15\n",
       "3      24963    29435          1366.01      1366.01\n",
       "4      14011    13516          7442.38      7442.38"
      ]
     },
     "execution_count": 37,
     "metadata": {},
     "output_type": "execute_result"
    }
   ],
   "source": [
    "# Review the X variable DataFrame \n",
    "X.head()"
   ]
  },
  {
   "cell_type": "code",
   "execution_count": 38,
   "id": "feb21592-6ee4-4419-be27-8e18bd2da39a",
   "metadata": {
    "tags": []
   },
   "outputs": [
    {
     "data": {
      "text/plain": [
       "0    10140\n",
       "1       17\n",
       "Name: Is Laundering, dtype: int64"
      ]
     },
     "execution_count": 38,
     "metadata": {},
     "output_type": "execute_result"
    }
   ],
   "source": [
    "# Check the balance of our target values\n",
    "target_balance = y.value_counts()\n",
    "target_balance"
   ]
  },
  {
   "cell_type": "code",
   "execution_count": 39,
   "id": "660fcd29-2422-4600-a545-ae829c3d3dbb",
   "metadata": {
    "tags": []
   },
   "outputs": [
    {
     "name": "stdout",
     "output_type": "stream",
     "text": [
      "X_train shape: (7617, 4), y_train shape: (7617,)\n",
      "X_test shape: (2540, 4), y_test shape: (2540,)\n"
     ]
    }
   ],
   "source": [
    "# Import the train_test_learn module\n",
    "from sklearn.model_selection import train_test_split\n",
    "\n",
    "# Split the data using train_test_split\n",
    "# Assign a random_state of 1 to the function\n",
    "X_train, X_test, y_train, y_test = train_test_split(X, y, random_state=1)\n",
    "print(f\"X_train shape: {X_train.shape}, y_train shape: {y_train.shape}\")\n",
    "print(f\"X_test shape: {X_test.shape}, y_test shape: {y_test.shape}\")"
   ]
  },
  {
   "cell_type": "code",
   "execution_count": 40,
   "id": "923a3764-70e8-4f7e-99b3-592aa0c87d81",
   "metadata": {
    "tags": []
   },
   "outputs": [
    {
     "data": {
      "text/html": [
       "<style>#sk-container-id-1 {color: black;}#sk-container-id-1 pre{padding: 0;}#sk-container-id-1 div.sk-toggleable {background-color: white;}#sk-container-id-1 label.sk-toggleable__label {cursor: pointer;display: block;width: 100%;margin-bottom: 0;padding: 0.3em;box-sizing: border-box;text-align: center;}#sk-container-id-1 label.sk-toggleable__label-arrow:before {content: \"▸\";float: left;margin-right: 0.25em;color: #696969;}#sk-container-id-1 label.sk-toggleable__label-arrow:hover:before {color: black;}#sk-container-id-1 div.sk-estimator:hover label.sk-toggleable__label-arrow:before {color: black;}#sk-container-id-1 div.sk-toggleable__content {max-height: 0;max-width: 0;overflow: hidden;text-align: left;background-color: #f0f8ff;}#sk-container-id-1 div.sk-toggleable__content pre {margin: 0.2em;color: black;border-radius: 0.25em;background-color: #f0f8ff;}#sk-container-id-1 input.sk-toggleable__control:checked~div.sk-toggleable__content {max-height: 200px;max-width: 100%;overflow: auto;}#sk-container-id-1 input.sk-toggleable__control:checked~label.sk-toggleable__label-arrow:before {content: \"▾\";}#sk-container-id-1 div.sk-estimator input.sk-toggleable__control:checked~label.sk-toggleable__label {background-color: #d4ebff;}#sk-container-id-1 div.sk-label input.sk-toggleable__control:checked~label.sk-toggleable__label {background-color: #d4ebff;}#sk-container-id-1 input.sk-hidden--visually {border: 0;clip: rect(1px 1px 1px 1px);clip: rect(1px, 1px, 1px, 1px);height: 1px;margin: -1px;overflow: hidden;padding: 0;position: absolute;width: 1px;}#sk-container-id-1 div.sk-estimator {font-family: monospace;background-color: #f0f8ff;border: 1px dotted black;border-radius: 0.25em;box-sizing: border-box;margin-bottom: 0.5em;}#sk-container-id-1 div.sk-estimator:hover {background-color: #d4ebff;}#sk-container-id-1 div.sk-parallel-item::after {content: \"\";width: 100%;border-bottom: 1px solid gray;flex-grow: 1;}#sk-container-id-1 div.sk-label:hover label.sk-toggleable__label {background-color: #d4ebff;}#sk-container-id-1 div.sk-serial::before {content: \"\";position: absolute;border-left: 1px solid gray;box-sizing: border-box;top: 0;bottom: 0;left: 50%;z-index: 0;}#sk-container-id-1 div.sk-serial {display: flex;flex-direction: column;align-items: center;background-color: white;padding-right: 0.2em;padding-left: 0.2em;position: relative;}#sk-container-id-1 div.sk-item {position: relative;z-index: 1;}#sk-container-id-1 div.sk-parallel {display: flex;align-items: stretch;justify-content: center;background-color: white;position: relative;}#sk-container-id-1 div.sk-item::before, #sk-container-id-1 div.sk-parallel-item::before {content: \"\";position: absolute;border-left: 1px solid gray;box-sizing: border-box;top: 0;bottom: 0;left: 50%;z-index: -1;}#sk-container-id-1 div.sk-parallel-item {display: flex;flex-direction: column;z-index: 1;position: relative;background-color: white;}#sk-container-id-1 div.sk-parallel-item:first-child::after {align-self: flex-end;width: 50%;}#sk-container-id-1 div.sk-parallel-item:last-child::after {align-self: flex-start;width: 50%;}#sk-container-id-1 div.sk-parallel-item:only-child::after {width: 0;}#sk-container-id-1 div.sk-dashed-wrapped {border: 1px dashed gray;margin: 0 0.4em 0.5em 0.4em;box-sizing: border-box;padding-bottom: 0.4em;background-color: white;}#sk-container-id-1 div.sk-label label {font-family: monospace;font-weight: bold;display: inline-block;line-height: 1.2em;}#sk-container-id-1 div.sk-label-container {text-align: center;}#sk-container-id-1 div.sk-container {/* jupyter's `normalize.less` sets `[hidden] { display: none; }` but bootstrap.min.css set `[hidden] { display: none !important; }` so we also need the `!important` here to be able to override the default hidden behavior on the sphinx rendered scikit-learn.org. See: https://github.com/scikit-learn/scikit-learn/issues/21755 */display: inline-block !important;position: relative;}#sk-container-id-1 div.sk-text-repr-fallback {display: none;}</style><div id=\"sk-container-id-1\" class=\"sk-top-container\"><div class=\"sk-text-repr-fallback\"><pre>LogisticRegression(random_state=1)</pre><b>In a Jupyter environment, please rerun this cell to show the HTML representation or trust the notebook. <br />On GitHub, the HTML representation is unable to render, please try loading this page with nbviewer.org.</b></div><div class=\"sk-container\" hidden><div class=\"sk-item\"><div class=\"sk-estimator sk-toggleable\"><input class=\"sk-toggleable__control sk-hidden--visually\" id=\"sk-estimator-id-1\" type=\"checkbox\" checked><label for=\"sk-estimator-id-1\" class=\"sk-toggleable__label sk-toggleable__label-arrow\">LogisticRegression</label><div class=\"sk-toggleable__content\"><pre>LogisticRegression(random_state=1)</pre></div></div></div></div></div>"
      ],
      "text/plain": [
       "LogisticRegression(random_state=1)"
      ]
     },
     "execution_count": 40,
     "metadata": {},
     "output_type": "execute_result"
    }
   ],
   "source": [
    "# Import the LogisticRegression module from SKLearn\n",
    "from sklearn.linear_model import LogisticRegression\n",
    "# Instantiate the Logistic Regression model\n",
    "# Assign a random_state parameter of 1 to the model\n",
    "# YOUR CODE HERE!\n",
    "model = LogisticRegression(random_state=1)\n",
    "\n",
    "# Fit the model using training data\n",
    "# YOUR CODE HERE!\n",
    "model.fit(X_train, y_train)"
   ]
  },
  {
   "cell_type": "code",
   "execution_count": 41,
   "id": "2ae06128-511c-4f05-9041-1550764b7733",
   "metadata": {
    "tags": []
   },
   "outputs": [],
   "source": [
    "# Make a prediction using the testing data\n",
    "# YOUR CODE HERE!\n",
    "y_prediction = model.predict(X_test)"
   ]
  },
  {
   "cell_type": "code",
   "execution_count": 42,
   "id": "9b2c1092-3f25-44db-b294-ab12f7d3ab7f",
   "metadata": {
    "tags": []
   },
   "outputs": [
    {
     "name": "stdout",
     "output_type": "stream",
     "text": [
      "Balanced Accuracy Score: 0.5\n"
     ]
    }
   ],
   "source": [
    "# Print the balanced_accuracy score of the model\n",
    "# YOUR CODE HERE!\n",
    "balanced_acc_score = balanced_accuracy_score(y_test, y_prediction)\n",
    "print(f\"Balanced Accuracy Score: {balanced_acc_score}\")"
   ]
  },
  {
   "cell_type": "code",
   "execution_count": 43,
   "id": "3933f762-91d2-431e-9ac6-f80c339f0004",
   "metadata": {
    "tags": []
   },
   "outputs": [
    {
     "name": "stdout",
     "output_type": "stream",
     "text": [
      "Confusion Matrix:\n",
      "[[2539    0]\n",
      " [   1    0]]\n"
     ]
    }
   ],
   "source": [
    "# Generate a confusion matrix for the model\n",
    "# YOUR CODE HERE!\n",
    "confusion_mat = confusion_matrix(y_test, y_prediction)\n",
    "print(\"Confusion Matrix:\")\n",
    "print(confusion_mat)"
   ]
  },
  {
   "cell_type": "code",
   "execution_count": 44,
   "id": "0f44b3ab-5ec2-443e-a83f-4f46b0a59c7c",
   "metadata": {
    "tags": []
   },
   "outputs": [
    {
     "name": "stdout",
     "output_type": "stream",
     "text": [
      "Classification Report:\n",
      "                   pre       rec       spe        f1       geo       iba       sup\n",
      "\n",
      "          0       1.00      1.00      0.00      1.00      0.00      0.00      2539\n",
      "          1       0.00      0.00      1.00      0.00      0.00      0.00         1\n",
      "\n",
      "avg / total       1.00      1.00      0.00      1.00      0.00      0.00      2540\n",
      "\n"
     ]
    }
   ],
   "source": [
    "# Print the classification report for the model\n",
    "# YOUR CODE HERE!\n",
    "classification_rep = classification_report_imbalanced(y_test, y_prediction)\n",
    "print(\"Classification Report:\")\n",
    "print(classification_rep)"
   ]
  },
  {
   "cell_type": "code",
   "execution_count": null,
   "id": "a8ac35ff-4cac-463c-97f5-d4667d9ab117",
   "metadata": {},
   "outputs": [],
   "source": []
  },
  {
   "cell_type": "code",
   "execution_count": null,
   "id": "a67da73c-4495-43c5-a7db-22fe25d3e365",
   "metadata": {},
   "outputs": [],
   "source": []
  },
  {
   "cell_type": "code",
   "execution_count": null,
   "id": "79d9484d-b35b-43a1-aeb8-0919ad9bf901",
   "metadata": {},
   "outputs": [],
   "source": []
  },
  {
   "cell_type": "code",
   "execution_count": null,
   "id": "157c9a99-7b09-4523-ac72-620f44c23d23",
   "metadata": {},
   "outputs": [],
   "source": []
  },
  {
   "cell_type": "code",
   "execution_count": null,
   "id": "7af4fe86-67a8-4f9c-b36d-0bddf8926080",
   "metadata": {},
   "outputs": [],
   "source": []
  },
  {
   "cell_type": "code",
   "execution_count": null,
   "id": "d47fbbe4-8630-4e34-be59-a5a4720cea33",
   "metadata": {},
   "outputs": [],
   "source": []
  },
  {
   "cell_type": "code",
   "execution_count": null,
   "id": "f7372a03-27bc-48c9-bf82-90d821b048bf",
   "metadata": {},
   "outputs": [],
   "source": []
  }
 ],
 "metadata": {
  "kernelspec": {
   "display_name": "Python 3 (ipykernel)",
   "language": "python",
   "name": "python3"
  },
  "language_info": {
   "codemirror_mode": {
    "name": "ipython",
    "version": 3
   },
   "file_extension": ".py",
   "mimetype": "text/x-python",
   "name": "python",
   "nbconvert_exporter": "python",
   "pygments_lexer": "ipython3",
   "version": "3.10.12"
  }
 },
 "nbformat": 4,
 "nbformat_minor": 5
}
