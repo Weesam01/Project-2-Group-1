{
 "cells": [
  {
   "cell_type": "code",
   "execution_count": 117,
   "id": "f560801c-df5e-49ba-94a5-94f2190e578d",
   "metadata": {},
   "outputs": [],
   "source": [
    "# Imports\n",
    "import pandas as pd\n",
    "from pathlib import Path\n",
    "import tensorflow as tf\n",
    "from tensorflow.keras.layers import Dense\n",
    "from tensorflow.keras.models import Sequential\n",
    "from sklearn.preprocessing import StandardScaler\n",
    "from sklearn.model_selection import train_test_split\n",
    "from sklearn.preprocessing import OneHotEncoder\n",
    "from sklearn.metrics import classification_report\n",
    "\n",
    "%matplotlib inline"
   ]
  },
  {
   "cell_type": "code",
   "execution_count": 118,
   "id": "dd5888a8-20f4-404b-9d91-d03393845b20",
   "metadata": {
    "tags": []
   },
   "outputs": [
    {
     "name": "stderr",
     "output_type": "stream",
     "text": [
      "C:\\Users\\victo\\AppData\\Local\\Temp\\ipykernel_10300\\233321205.py:2: FutureWarning: The argument 'infer_datetime_format' is deprecated and will be removed in a future version. A strict version of it is now the default, see https://pandas.pydata.org/pdeps/0004-consistent-to-datetime-parsing.html. You can safely remove this argument.\n",
      "  nn_df = pd.read_csv(\n"
     ]
    },
    {
     "data": {
      "text/html": [
       "<div>\n",
       "<style scoped>\n",
       "    .dataframe tbody tr th:only-of-type {\n",
       "        vertical-align: middle;\n",
       "    }\n",
       "\n",
       "    .dataframe tbody tr th {\n",
       "        vertical-align: top;\n",
       "    }\n",
       "\n",
       "    .dataframe thead th {\n",
       "        text-align: right;\n",
       "    }\n",
       "</style>\n",
       "<table border=\"1\" class=\"dataframe\">\n",
       "  <thead>\n",
       "    <tr style=\"text-align: right;\">\n",
       "      <th></th>\n",
       "      <th>From Bank</th>\n",
       "      <th>Account</th>\n",
       "      <th>To Bank</th>\n",
       "      <th>Account.1</th>\n",
       "      <th>Amount Received</th>\n",
       "      <th>Receiving Currency</th>\n",
       "      <th>Amount Paid</th>\n",
       "      <th>Payment Currency</th>\n",
       "      <th>Payment Format</th>\n",
       "      <th>Is Laundering</th>\n",
       "    </tr>\n",
       "    <tr>\n",
       "      <th>Timestamp</th>\n",
       "      <th></th>\n",
       "      <th></th>\n",
       "      <th></th>\n",
       "      <th></th>\n",
       "      <th></th>\n",
       "      <th></th>\n",
       "      <th></th>\n",
       "      <th></th>\n",
       "      <th></th>\n",
       "      <th></th>\n",
       "    </tr>\n",
       "  </thead>\n",
       "  <tbody>\n",
       "    <tr>\n",
       "      <th>2022-09-08 13:59:00</th>\n",
       "      <td>4726</td>\n",
       "      <td>807215870</td>\n",
       "      <td>23538</td>\n",
       "      <td>809350870</td>\n",
       "      <td>2489.79</td>\n",
       "      <td>US Dollar</td>\n",
       "      <td>2489.79</td>\n",
       "      <td>US Dollar</td>\n",
       "      <td>Cheque</td>\n",
       "      <td>0</td>\n",
       "    </tr>\n",
       "    <tr>\n",
       "      <th>2022-09-09 15:46:00</th>\n",
       "      <td>70</td>\n",
       "      <td>1004286A8</td>\n",
       "      <td>117698</td>\n",
       "      <td>80BA727F0</td>\n",
       "      <td>1802.44</td>\n",
       "      <td>Euro</td>\n",
       "      <td>1802.44</td>\n",
       "      <td>Euro</td>\n",
       "      <td>Cheque</td>\n",
       "      <td>0</td>\n",
       "    </tr>\n",
       "    <tr>\n",
       "      <th>2022-09-05 23:11:00</th>\n",
       "      <td>16788</td>\n",
       "      <td>8041F5380</td>\n",
       "      <td>11813</td>\n",
       "      <td>805DFD130</td>\n",
       "      <td>27.93</td>\n",
       "      <td>US Dollar</td>\n",
       "      <td>27.93</td>\n",
       "      <td>US Dollar</td>\n",
       "      <td>Credit Card</td>\n",
       "      <td>0</td>\n",
       "    </tr>\n",
       "    <tr>\n",
       "      <th>2022-09-09 19:56:00</th>\n",
       "      <td>70</td>\n",
       "      <td>100428780</td>\n",
       "      <td>16</td>\n",
       "      <td>8049AF0E0</td>\n",
       "      <td>4915318.35</td>\n",
       "      <td>Rupee</td>\n",
       "      <td>4915318.35</td>\n",
       "      <td>Rupee</td>\n",
       "      <td>Cheque</td>\n",
       "      <td>0</td>\n",
       "    </tr>\n",
       "    <tr>\n",
       "      <th>2022-09-06 08:01:00</th>\n",
       "      <td>28237</td>\n",
       "      <td>80A89A140</td>\n",
       "      <td>30039</td>\n",
       "      <td>80B080DB0</td>\n",
       "      <td>0.10</td>\n",
       "      <td>Australian Dollar</td>\n",
       "      <td>0.10</td>\n",
       "      <td>Australian Dollar</td>\n",
       "      <td>Wire</td>\n",
       "      <td>0</td>\n",
       "    </tr>\n",
       "    <tr>\n",
       "      <th>...</th>\n",
       "      <td>...</td>\n",
       "      <td>...</td>\n",
       "      <td>...</td>\n",
       "      <td>...</td>\n",
       "      <td>...</td>\n",
       "      <td>...</td>\n",
       "      <td>...</td>\n",
       "      <td>...</td>\n",
       "      <td>...</td>\n",
       "      <td>...</td>\n",
       "    </tr>\n",
       "    <tr>\n",
       "      <th>2022-09-02 16:09:00</th>\n",
       "      <td>44458</td>\n",
       "      <td>8118F24E0</td>\n",
       "      <td>22</td>\n",
       "      <td>812D76B30</td>\n",
       "      <td>446.12</td>\n",
       "      <td>Euro</td>\n",
       "      <td>446.12</td>\n",
       "      <td>Euro</td>\n",
       "      <td>Wire</td>\n",
       "      <td>0</td>\n",
       "    </tr>\n",
       "    <tr>\n",
       "      <th>2022-09-01 21:09:00</th>\n",
       "      <td>12</td>\n",
       "      <td>80018EE40</td>\n",
       "      <td>18015</td>\n",
       "      <td>8077DC800</td>\n",
       "      <td>119.51</td>\n",
       "      <td>US Dollar</td>\n",
       "      <td>119.51</td>\n",
       "      <td>US Dollar</td>\n",
       "      <td>ACH</td>\n",
       "      <td>0</td>\n",
       "    </tr>\n",
       "    <tr>\n",
       "      <th>2022-09-09 00:03:00</th>\n",
       "      <td>11</td>\n",
       "      <td>8006CA910</td>\n",
       "      <td>214100</td>\n",
       "      <td>80D22CA10</td>\n",
       "      <td>157.94</td>\n",
       "      <td>Euro</td>\n",
       "      <td>157.94</td>\n",
       "      <td>Euro</td>\n",
       "      <td>Credit Card</td>\n",
       "      <td>0</td>\n",
       "    </tr>\n",
       "    <tr>\n",
       "      <th>2022-09-08 00:38:00</th>\n",
       "      <td>243614</td>\n",
       "      <td>81013F670</td>\n",
       "      <td>119</td>\n",
       "      <td>810193670</td>\n",
       "      <td>622.80</td>\n",
       "      <td>Shekel</td>\n",
       "      <td>622.80</td>\n",
       "      <td>Shekel</td>\n",
       "      <td>Cheque</td>\n",
       "      <td>0</td>\n",
       "    </tr>\n",
       "    <tr>\n",
       "      <th>2022-09-05 03:09:00</th>\n",
       "      <td>43460</td>\n",
       "      <td>810D69900</td>\n",
       "      <td>143430</td>\n",
       "      <td>811201090</td>\n",
       "      <td>35222.29</td>\n",
       "      <td>Shekel</td>\n",
       "      <td>35222.29</td>\n",
       "      <td>Shekel</td>\n",
       "      <td>Credit Card</td>\n",
       "      <td>0</td>\n",
       "    </tr>\n",
       "  </tbody>\n",
       "</table>\n",
       "<p>101567 rows × 10 columns</p>\n",
       "</div>"
      ],
      "text/plain": [
       "                     From Bank    Account  To Bank  Account.1  \\\n",
       "Timestamp                                                       \n",
       "2022-09-08 13:59:00       4726  807215870    23538  809350870   \n",
       "2022-09-09 15:46:00         70  1004286A8   117698  80BA727F0   \n",
       "2022-09-05 23:11:00      16788  8041F5380    11813  805DFD130   \n",
       "2022-09-09 19:56:00         70  100428780       16  8049AF0E0   \n",
       "2022-09-06 08:01:00      28237  80A89A140    30039  80B080DB0   \n",
       "...                        ...        ...      ...        ...   \n",
       "2022-09-02 16:09:00      44458  8118F24E0       22  812D76B30   \n",
       "2022-09-01 21:09:00         12  80018EE40    18015  8077DC800   \n",
       "2022-09-09 00:03:00         11  8006CA910   214100  80D22CA10   \n",
       "2022-09-08 00:38:00     243614  81013F670      119  810193670   \n",
       "2022-09-05 03:09:00      43460  810D69900   143430  811201090   \n",
       "\n",
       "                     Amount Received Receiving Currency  Amount Paid  \\\n",
       "Timestamp                                                              \n",
       "2022-09-08 13:59:00          2489.79          US Dollar      2489.79   \n",
       "2022-09-09 15:46:00          1802.44               Euro      1802.44   \n",
       "2022-09-05 23:11:00            27.93          US Dollar        27.93   \n",
       "2022-09-09 19:56:00       4915318.35              Rupee   4915318.35   \n",
       "2022-09-06 08:01:00             0.10  Australian Dollar         0.10   \n",
       "...                              ...                ...          ...   \n",
       "2022-09-02 16:09:00           446.12               Euro       446.12   \n",
       "2022-09-01 21:09:00           119.51          US Dollar       119.51   \n",
       "2022-09-09 00:03:00           157.94               Euro       157.94   \n",
       "2022-09-08 00:38:00           622.80             Shekel       622.80   \n",
       "2022-09-05 03:09:00         35222.29             Shekel     35222.29   \n",
       "\n",
       "                      Payment Currency Payment Format  Is Laundering  \n",
       "Timestamp                                                             \n",
       "2022-09-08 13:59:00          US Dollar         Cheque              0  \n",
       "2022-09-09 15:46:00               Euro         Cheque              0  \n",
       "2022-09-05 23:11:00          US Dollar    Credit Card              0  \n",
       "2022-09-09 19:56:00              Rupee         Cheque              0  \n",
       "2022-09-06 08:01:00  Australian Dollar           Wire              0  \n",
       "...                                ...            ...            ...  \n",
       "2022-09-02 16:09:00               Euro           Wire              0  \n",
       "2022-09-01 21:09:00          US Dollar            ACH              0  \n",
       "2022-09-09 00:03:00               Euro    Credit Card              0  \n",
       "2022-09-08 00:38:00             Shekel         Cheque              0  \n",
       "2022-09-05 03:09:00             Shekel    Credit Card              0  \n",
       "\n",
       "[101567 rows x 10 columns]"
      ]
     },
     "execution_count": 118,
     "metadata": {},
     "output_type": "execute_result"
    }
   ],
   "source": [
    "# Read the cc_default.csv file from the Resources folder into a Pandas DataFrame\n",
    "nn_df = pd.read_csv(\n",
    "    Path(r\"Resources/Sample4.csv\").absolute()\n",
    "    , index_col=\"Timestamp\", infer_datetime_format=True, parse_dates=True)\n",
    "nn_df = nn_df.drop(columns=[\"Unnamed: 0\"])\n",
    "# Review the DataFrame\n",
    "nn_df"
   ]
  },
  {
   "cell_type": "code",
   "execution_count": 119,
   "id": "767c0282-3ad8-4084-95b0-3fe14504b085",
   "metadata": {
    "tags": []
   },
   "outputs": [
    {
     "name": "stdout",
     "output_type": "stream",
     "text": [
      "<class 'pandas.core.frame.DataFrame'>\n",
      "DatetimeIndex: 101567 entries, 2022-09-08 13:59:00 to 2022-09-05 03:09:00\n",
      "Data columns (total 10 columns):\n",
      " #   Column              Non-Null Count   Dtype  \n",
      "---  ------              --------------   -----  \n",
      " 0   From Bank           101567 non-null  int64  \n",
      " 1   Account             101567 non-null  object \n",
      " 2   To Bank             101567 non-null  int64  \n",
      " 3   Account.1           101567 non-null  object \n",
      " 4   Amount Received     101567 non-null  float64\n",
      " 5   Receiving Currency  101567 non-null  object \n",
      " 6   Amount Paid         101567 non-null  float64\n",
      " 7   Payment Currency    101567 non-null  object \n",
      " 8   Payment Format      101567 non-null  object \n",
      " 9   Is Laundering       101567 non-null  int64  \n",
      "dtypes: float64(2), int64(3), object(5)\n",
      "memory usage: 8.5+ MB\n"
     ]
    }
   ],
   "source": [
    "nn_df.info()"
   ]
  },
  {
   "cell_type": "code",
   "execution_count": 120,
   "id": "67f73cbe-d05c-4cfd-8ac7-7c0adeec0c16",
   "metadata": {
    "tags": []
   },
   "outputs": [
    {
     "data": {
      "text/plain": [
       "Timestamp\n",
       "2022-09-08 13:59:00    0\n",
       "2022-09-09 15:46:00    0\n",
       "2022-09-05 23:11:00    0\n",
       "2022-09-09 19:56:00    0\n",
       "2022-09-06 08:01:00    0\n",
       "                      ..\n",
       "2022-09-02 16:09:00    0\n",
       "2022-09-01 21:09:00    0\n",
       "2022-09-09 00:03:00    0\n",
       "2022-09-08 00:38:00    0\n",
       "2022-09-05 03:09:00    0\n",
       "Name: Is Laundering, Length: 101567, dtype: int64"
      ]
     },
     "execution_count": 120,
     "metadata": {},
     "output_type": "execute_result"
    }
   ],
   "source": [
    "# Define the target set by selecting the \"Is Laundering\" column\n",
    "y = nn_df[\"Is Laundering\"]\n",
    "\n",
    "# Display a sample of y\n",
    "y"
   ]
  },
  {
   "cell_type": "code",
   "execution_count": 135,
   "id": "71608c23-0223-4938-b366-92da1e143a10",
   "metadata": {
    "tags": []
   },
   "outputs": [
    {
     "data": {
      "text/html": [
       "<div>\n",
       "<style scoped>\n",
       "    .dataframe tbody tr th:only-of-type {\n",
       "        vertical-align: middle;\n",
       "    }\n",
       "\n",
       "    .dataframe tbody tr th {\n",
       "        vertical-align: top;\n",
       "    }\n",
       "\n",
       "    .dataframe thead th {\n",
       "        text-align: right;\n",
       "    }\n",
       "</style>\n",
       "<table border=\"1\" class=\"dataframe\">\n",
       "  <thead>\n",
       "    <tr style=\"text-align: right;\">\n",
       "      <th></th>\n",
       "      <th>From Bank</th>\n",
       "      <th>To Bank</th>\n",
       "      <th>Amount Received</th>\n",
       "      <th>Amount Paid</th>\n",
       "    </tr>\n",
       "    <tr>\n",
       "      <th>Timestamp</th>\n",
       "      <th></th>\n",
       "      <th></th>\n",
       "      <th></th>\n",
       "      <th></th>\n",
       "    </tr>\n",
       "  </thead>\n",
       "  <tbody>\n",
       "    <tr>\n",
       "      <th>2022-09-08 13:59:00</th>\n",
       "      <td>4726</td>\n",
       "      <td>23538</td>\n",
       "      <td>2489.79</td>\n",
       "      <td>2489.79</td>\n",
       "    </tr>\n",
       "    <tr>\n",
       "      <th>2022-09-09 15:46:00</th>\n",
       "      <td>70</td>\n",
       "      <td>117698</td>\n",
       "      <td>1802.44</td>\n",
       "      <td>1802.44</td>\n",
       "    </tr>\n",
       "    <tr>\n",
       "      <th>2022-09-05 23:11:00</th>\n",
       "      <td>16788</td>\n",
       "      <td>11813</td>\n",
       "      <td>27.93</td>\n",
       "      <td>27.93</td>\n",
       "    </tr>\n",
       "    <tr>\n",
       "      <th>2022-09-09 19:56:00</th>\n",
       "      <td>70</td>\n",
       "      <td>16</td>\n",
       "      <td>4915318.35</td>\n",
       "      <td>4915318.35</td>\n",
       "    </tr>\n",
       "    <tr>\n",
       "      <th>2022-09-06 08:01:00</th>\n",
       "      <td>28237</td>\n",
       "      <td>30039</td>\n",
       "      <td>0.10</td>\n",
       "      <td>0.10</td>\n",
       "    </tr>\n",
       "    <tr>\n",
       "      <th>...</th>\n",
       "      <td>...</td>\n",
       "      <td>...</td>\n",
       "      <td>...</td>\n",
       "      <td>...</td>\n",
       "    </tr>\n",
       "    <tr>\n",
       "      <th>2022-09-02 16:09:00</th>\n",
       "      <td>44458</td>\n",
       "      <td>22</td>\n",
       "      <td>446.12</td>\n",
       "      <td>446.12</td>\n",
       "    </tr>\n",
       "    <tr>\n",
       "      <th>2022-09-01 21:09:00</th>\n",
       "      <td>12</td>\n",
       "      <td>18015</td>\n",
       "      <td>119.51</td>\n",
       "      <td>119.51</td>\n",
       "    </tr>\n",
       "    <tr>\n",
       "      <th>2022-09-09 00:03:00</th>\n",
       "      <td>11</td>\n",
       "      <td>214100</td>\n",
       "      <td>157.94</td>\n",
       "      <td>157.94</td>\n",
       "    </tr>\n",
       "    <tr>\n",
       "      <th>2022-09-08 00:38:00</th>\n",
       "      <td>243614</td>\n",
       "      <td>119</td>\n",
       "      <td>622.80</td>\n",
       "      <td>622.80</td>\n",
       "    </tr>\n",
       "    <tr>\n",
       "      <th>2022-09-05 03:09:00</th>\n",
       "      <td>43460</td>\n",
       "      <td>143430</td>\n",
       "      <td>35222.29</td>\n",
       "      <td>35222.29</td>\n",
       "    </tr>\n",
       "  </tbody>\n",
       "</table>\n",
       "<p>101567 rows × 4 columns</p>\n",
       "</div>"
      ],
      "text/plain": [
       "                     From Bank  To Bank  Amount Received  Amount Paid\n",
       "Timestamp                                                            \n",
       "2022-09-08 13:59:00       4726    23538          2489.79      2489.79\n",
       "2022-09-09 15:46:00         70   117698          1802.44      1802.44\n",
       "2022-09-05 23:11:00      16788    11813            27.93        27.93\n",
       "2022-09-09 19:56:00         70       16       4915318.35   4915318.35\n",
       "2022-09-06 08:01:00      28237    30039             0.10         0.10\n",
       "...                        ...      ...              ...          ...\n",
       "2022-09-02 16:09:00      44458       22           446.12       446.12\n",
       "2022-09-01 21:09:00         12    18015           119.51       119.51\n",
       "2022-09-09 00:03:00         11   214100           157.94       157.94\n",
       "2022-09-08 00:38:00     243614      119           622.80       622.80\n",
       "2022-09-05 03:09:00      43460   143430         35222.29     35222.29\n",
       "\n",
       "[101567 rows x 4 columns]"
      ]
     },
     "execution_count": 135,
     "metadata": {},
     "output_type": "execute_result"
    }
   ],
   "source": [
    "# Define features set X by selecting all columns but the Is Laundering \n",
    "X = nn_df.drop(columns=[\"Account\", \"Account.1\", \"Receiving Currency\", \"Payment Currency\", \"Payment Format\", \"Is Laundering\"])\n",
    "\n",
    "# Display the features DataFrame\n",
    "X"
   ]
  },
  {
   "cell_type": "code",
   "execution_count": 122,
   "id": "f67b8fa5-ee64-4bfb-a1da-f9f2d0ad2f38",
   "metadata": {
    "tags": []
   },
   "outputs": [],
   "source": [
    "# Create training and testing datasets using train_teat_split\n",
    "# Assign the function a random_state equal to 1\n",
    "X_train, X_test, y_train, y_test = train_test_split(X, y, random_state=1)"
   ]
  },
  {
   "cell_type": "code",
   "execution_count": 123,
   "id": "ad65eddd-7ad4-41cd-93d1-2ae683b4fd67",
   "metadata": {
    "tags": []
   },
   "outputs": [],
   "source": [
    "# Create the StandardScaler instance\n",
    "X_scaler = StandardScaler()"
   ]
  },
  {
   "cell_type": "code",
   "execution_count": 124,
   "id": "594d1d1e-b20c-4ae6-b7e4-5d68f397f939",
   "metadata": {
    "tags": []
   },
   "outputs": [
    {
     "data": {
      "text/html": [
       "<style>#sk-container-id-3 {color: black;}#sk-container-id-3 pre{padding: 0;}#sk-container-id-3 div.sk-toggleable {background-color: white;}#sk-container-id-3 label.sk-toggleable__label {cursor: pointer;display: block;width: 100%;margin-bottom: 0;padding: 0.3em;box-sizing: border-box;text-align: center;}#sk-container-id-3 label.sk-toggleable__label-arrow:before {content: \"▸\";float: left;margin-right: 0.25em;color: #696969;}#sk-container-id-3 label.sk-toggleable__label-arrow:hover:before {color: black;}#sk-container-id-3 div.sk-estimator:hover label.sk-toggleable__label-arrow:before {color: black;}#sk-container-id-3 div.sk-toggleable__content {max-height: 0;max-width: 0;overflow: hidden;text-align: left;background-color: #f0f8ff;}#sk-container-id-3 div.sk-toggleable__content pre {margin: 0.2em;color: black;border-radius: 0.25em;background-color: #f0f8ff;}#sk-container-id-3 input.sk-toggleable__control:checked~div.sk-toggleable__content {max-height: 200px;max-width: 100%;overflow: auto;}#sk-container-id-3 input.sk-toggleable__control:checked~label.sk-toggleable__label-arrow:before {content: \"▾\";}#sk-container-id-3 div.sk-estimator input.sk-toggleable__control:checked~label.sk-toggleable__label {background-color: #d4ebff;}#sk-container-id-3 div.sk-label input.sk-toggleable__control:checked~label.sk-toggleable__label {background-color: #d4ebff;}#sk-container-id-3 input.sk-hidden--visually {border: 0;clip: rect(1px 1px 1px 1px);clip: rect(1px, 1px, 1px, 1px);height: 1px;margin: -1px;overflow: hidden;padding: 0;position: absolute;width: 1px;}#sk-container-id-3 div.sk-estimator {font-family: monospace;background-color: #f0f8ff;border: 1px dotted black;border-radius: 0.25em;box-sizing: border-box;margin-bottom: 0.5em;}#sk-container-id-3 div.sk-estimator:hover {background-color: #d4ebff;}#sk-container-id-3 div.sk-parallel-item::after {content: \"\";width: 100%;border-bottom: 1px solid gray;flex-grow: 1;}#sk-container-id-3 div.sk-label:hover label.sk-toggleable__label {background-color: #d4ebff;}#sk-container-id-3 div.sk-serial::before {content: \"\";position: absolute;border-left: 1px solid gray;box-sizing: border-box;top: 0;bottom: 0;left: 50%;z-index: 0;}#sk-container-id-3 div.sk-serial {display: flex;flex-direction: column;align-items: center;background-color: white;padding-right: 0.2em;padding-left: 0.2em;position: relative;}#sk-container-id-3 div.sk-item {position: relative;z-index: 1;}#sk-container-id-3 div.sk-parallel {display: flex;align-items: stretch;justify-content: center;background-color: white;position: relative;}#sk-container-id-3 div.sk-item::before, #sk-container-id-3 div.sk-parallel-item::before {content: \"\";position: absolute;border-left: 1px solid gray;box-sizing: border-box;top: 0;bottom: 0;left: 50%;z-index: -1;}#sk-container-id-3 div.sk-parallel-item {display: flex;flex-direction: column;z-index: 1;position: relative;background-color: white;}#sk-container-id-3 div.sk-parallel-item:first-child::after {align-self: flex-end;width: 50%;}#sk-container-id-3 div.sk-parallel-item:last-child::after {align-self: flex-start;width: 50%;}#sk-container-id-3 div.sk-parallel-item:only-child::after {width: 0;}#sk-container-id-3 div.sk-dashed-wrapped {border: 1px dashed gray;margin: 0 0.4em 0.5em 0.4em;box-sizing: border-box;padding-bottom: 0.4em;background-color: white;}#sk-container-id-3 div.sk-label label {font-family: monospace;font-weight: bold;display: inline-block;line-height: 1.2em;}#sk-container-id-3 div.sk-label-container {text-align: center;}#sk-container-id-3 div.sk-container {/* jupyter's `normalize.less` sets `[hidden] { display: none; }` but bootstrap.min.css set `[hidden] { display: none !important; }` so we also need the `!important` here to be able to override the default hidden behavior on the sphinx rendered scikit-learn.org. See: https://github.com/scikit-learn/scikit-learn/issues/21755 */display: inline-block !important;position: relative;}#sk-container-id-3 div.sk-text-repr-fallback {display: none;}</style><div id=\"sk-container-id-3\" class=\"sk-top-container\"><div class=\"sk-text-repr-fallback\"><pre>StandardScaler()</pre><b>In a Jupyter environment, please rerun this cell to show the HTML representation or trust the notebook. <br />On GitHub, the HTML representation is unable to render, please try loading this page with nbviewer.org.</b></div><div class=\"sk-container\" hidden><div class=\"sk-item\"><div class=\"sk-estimator sk-toggleable\"><input class=\"sk-toggleable__control sk-hidden--visually\" id=\"sk-estimator-id-3\" type=\"checkbox\" checked><label for=\"sk-estimator-id-3\" class=\"sk-toggleable__label sk-toggleable__label-arrow\">StandardScaler</label><div class=\"sk-toggleable__content\"><pre>StandardScaler()</pre></div></div></div></div></div>"
      ],
      "text/plain": [
       "StandardScaler()"
      ]
     },
     "execution_count": 124,
     "metadata": {},
     "output_type": "execute_result"
    }
   ],
   "source": [
    "# Fit the scaler to the features training dataset\n",
    "X_scaler.fit(X_train)"
   ]
  },
  {
   "cell_type": "code",
   "execution_count": 125,
   "id": "4a7f3fe8-17f3-4627-90a5-54ad11106e57",
   "metadata": {
    "tags": []
   },
   "outputs": [],
   "source": [
    "# Scale both the training and testing data from the features dataset\n",
    "X_train_scaled = X_scaler.transform(X_train)\n",
    "X_test_scaled = X_scaler.transform(X_test)"
   ]
  },
  {
   "cell_type": "code",
   "execution_count": 126,
   "id": "9c2bf99f-a543-4cd8-8977-86191ae631b4",
   "metadata": {
    "tags": []
   },
   "outputs": [],
   "source": [
    "# Define the the number of inputs to the model\n",
    "number_inputs = 4\n",
    "\n",
    "# Define the number of hidden nodes for the first hidden layer\n",
    "hidden_nodes_layer1 = 12\n",
    "\n",
    "# Define the number of hidden nodes for the second hidden layer\n",
    "hidden_nodes_layer2 = 8\n",
    "\n",
    "# Create the Sequential model instance\n",
    "nn = Sequential()\n",
    "\n",
    "# Add the first Dense layer specifying the number of inputs, the number of hidden nodes, and the activation function\n",
    "nn.add(Dense(units=hidden_nodes_layer1, input_dim=number_inputs, activation=\"relu\"))\n",
    "\n",
    "# Add the second Dense layer specifying the number of hidden nodes and the activation function\n",
    "nn.add(Dense(units=hidden_nodes_layer2, activation=\"relu\"))\n",
    "\n",
    "# Add the output layer to the model specifying the number of output neurons and activation function\n",
    "nn.add(Dense(1, activation=\"sigmoid\"))"
   ]
  },
  {
   "cell_type": "code",
   "execution_count": 127,
   "id": "de96e5ad-00fc-43b2-a2dd-8668f53f9400",
   "metadata": {
    "tags": []
   },
   "outputs": [
    {
     "name": "stdout",
     "output_type": "stream",
     "text": [
      "Model: \"sequential_4\"\n",
      "_________________________________________________________________\n",
      " Layer (type)                Output Shape              Param #   \n",
      "=================================================================\n",
      " dense_12 (Dense)            (None, 12)                60        \n",
      "                                                                 \n",
      " dense_13 (Dense)            (None, 8)                 104       \n",
      "                                                                 \n",
      " dense_14 (Dense)            (None, 1)                 9         \n",
      "                                                                 \n",
      "=================================================================\n",
      "Total params: 173 (692.00 Byte)\n",
      "Trainable params: 173 (692.00 Byte)\n",
      "Non-trainable params: 0 (0.00 Byte)\n",
      "_________________________________________________________________\n"
     ]
    }
   ],
   "source": [
    "# Display the Sequential model summary\n",
    "nn.summary()"
   ]
  },
  {
   "cell_type": "code",
   "execution_count": 128,
   "id": "1850696e-291c-466a-aa29-e490b28211c4",
   "metadata": {
    "tags": []
   },
   "outputs": [],
   "source": [
    "# Compile the Sequential model\n",
    "nn.compile(loss=\"binary_crossentropy\", optimizer=\"adam\", metrics=[\"accuracy\"])"
   ]
  },
  {
   "cell_type": "code",
   "execution_count": 129,
   "id": "4dfb3e35-1869-4dfe-b28d-ed206916f23e",
   "metadata": {
    "tags": []
   },
   "outputs": [
    {
     "name": "stdout",
     "output_type": "stream",
     "text": [
      "Epoch 1/50\n",
      "2381/2381 [==============================] - 6s 2ms/step - loss: 0.0333 - accuracy: 0.9989\n",
      "Epoch 2/50\n",
      "2381/2381 [==============================] - 6s 3ms/step - loss: 0.0086 - accuracy: 0.9989\n",
      "Epoch 3/50\n",
      "2381/2381 [==============================] - 7s 3ms/step - loss: 0.0086 - accuracy: 0.9989\n",
      "Epoch 4/50\n",
      "2381/2381 [==============================] - 6s 3ms/step - loss: 0.0085 - accuracy: 0.9989\n",
      "Epoch 5/50\n",
      "2381/2381 [==============================] - 6s 3ms/step - loss: 0.0085 - accuracy: 0.9989\n",
      "Epoch 6/50\n",
      "2381/2381 [==============================] - 6s 3ms/step - loss: 0.0085 - accuracy: 0.9989\n",
      "Epoch 7/50\n",
      "2381/2381 [==============================] - 6s 3ms/step - loss: 0.0085 - accuracy: 0.9989\n",
      "Epoch 8/50\n",
      "2381/2381 [==============================] - 6s 3ms/step - loss: 0.0085 - accuracy: 0.9989\n",
      "Epoch 9/50\n",
      "2381/2381 [==============================] - 6s 3ms/step - loss: 0.0085 - accuracy: 0.9989\n",
      "Epoch 10/50\n",
      "2381/2381 [==============================] - 6s 3ms/step - loss: 0.0085 - accuracy: 0.9989\n",
      "Epoch 11/50\n",
      "2381/2381 [==============================] - 6s 3ms/step - loss: 0.0084 - accuracy: 0.9989\n",
      "Epoch 12/50\n",
      "2381/2381 [==============================] - 6s 3ms/step - loss: 0.0085 - accuracy: 0.9989\n",
      "Epoch 13/50\n",
      "2381/2381 [==============================] - 7s 3ms/step - loss: 0.0084 - accuracy: 0.9989\n",
      "Epoch 14/50\n",
      "2381/2381 [==============================] - 6s 3ms/step - loss: 0.0085 - accuracy: 0.9989\n",
      "Epoch 15/50\n",
      "2381/2381 [==============================] - 6s 3ms/step - loss: 0.0085 - accuracy: 0.9989\n",
      "Epoch 16/50\n",
      "2381/2381 [==============================] - 6s 3ms/step - loss: 0.0084 - accuracy: 0.9989\n",
      "Epoch 17/50\n",
      "2381/2381 [==============================] - 6s 3ms/step - loss: 0.0084 - accuracy: 0.9989\n",
      "Epoch 18/50\n",
      "2381/2381 [==============================] - 6s 3ms/step - loss: 0.0084 - accuracy: 0.9989\n",
      "Epoch 19/50\n",
      "2381/2381 [==============================] - 6s 3ms/step - loss: 0.0084 - accuracy: 0.9989\n",
      "Epoch 20/50\n",
      "2381/2381 [==============================] - 6s 3ms/step - loss: 0.0084 - accuracy: 0.9989\n",
      "Epoch 21/50\n",
      "2381/2381 [==============================] - 7s 3ms/step - loss: 0.0084 - accuracy: 0.9989\n",
      "Epoch 22/50\n",
      "2381/2381 [==============================] - 6s 3ms/step - loss: 0.0084 - accuracy: 0.9989\n",
      "Epoch 23/50\n",
      "2381/2381 [==============================] - 6s 3ms/step - loss: 0.0084 - accuracy: 0.9989\n",
      "Epoch 24/50\n",
      "2381/2381 [==============================] - 6s 3ms/step - loss: 0.0084 - accuracy: 0.9989\n",
      "Epoch 25/50\n",
      "2381/2381 [==============================] - 6s 3ms/step - loss: 0.0084 - accuracy: 0.9989\n",
      "Epoch 26/50\n",
      "2381/2381 [==============================] - 6s 3ms/step - loss: 0.0084 - accuracy: 0.9989\n",
      "Epoch 27/50\n",
      "2381/2381 [==============================] - 6s 3ms/step - loss: 0.0084 - accuracy: 0.9989\n",
      "Epoch 28/50\n",
      "2381/2381 [==============================] - 6s 3ms/step - loss: 0.0084 - accuracy: 0.9989\n",
      "Epoch 29/50\n",
      "2381/2381 [==============================] - 6s 3ms/step - loss: 0.0084 - accuracy: 0.9989\n",
      "Epoch 30/50\n",
      "2381/2381 [==============================] - 6s 3ms/step - loss: 0.0084 - accuracy: 0.9989\n",
      "Epoch 31/50\n",
      "2381/2381 [==============================] - 7s 3ms/step - loss: 0.0084 - accuracy: 0.9989\n",
      "Epoch 32/50\n",
      "2381/2381 [==============================] - 7s 3ms/step - loss: 0.0084 - accuracy: 0.9989\n",
      "Epoch 33/50\n",
      "2381/2381 [==============================] - 7s 3ms/step - loss: 0.0084 - accuracy: 0.9989\n",
      "Epoch 34/50\n",
      "2381/2381 [==============================] - 7s 3ms/step - loss: 0.0084 - accuracy: 0.9989\n",
      "Epoch 35/50\n",
      "2381/2381 [==============================] - 7s 3ms/step - loss: 0.0084 - accuracy: 0.9989\n",
      "Epoch 36/50\n",
      "2381/2381 [==============================] - 7s 3ms/step - loss: 0.0084 - accuracy: 0.9989\n",
      "Epoch 37/50\n",
      "2381/2381 [==============================] - 7s 3ms/step - loss: 0.0084 - accuracy: 0.9989\n",
      "Epoch 38/50\n",
      "2381/2381 [==============================] - 7s 3ms/step - loss: 0.0084 - accuracy: 0.9989\n",
      "Epoch 39/50\n",
      "2381/2381 [==============================] - 7s 3ms/step - loss: 0.0084 - accuracy: 0.9989\n",
      "Epoch 40/50\n",
      "2381/2381 [==============================] - 7s 3ms/step - loss: 0.0084 - accuracy: 0.9989\n",
      "Epoch 41/50\n",
      "2381/2381 [==============================] - 7s 3ms/step - loss: 0.0084 - accuracy: 0.9989\n",
      "Epoch 42/50\n",
      "2381/2381 [==============================] - 7s 3ms/step - loss: 0.0084 - accuracy: 0.9989\n",
      "Epoch 43/50\n",
      "2381/2381 [==============================] - 7s 3ms/step - loss: 0.0084 - accuracy: 0.9989\n",
      "Epoch 44/50\n",
      "2381/2381 [==============================] - 7s 3ms/step - loss: 0.0084 - accuracy: 0.9989\n",
      "Epoch 45/50\n",
      "2381/2381 [==============================] - 7s 3ms/step - loss: 0.0084 - accuracy: 0.9989\n",
      "Epoch 46/50\n",
      "2381/2381 [==============================] - 6s 3ms/step - loss: 0.0084 - accuracy: 0.9989\n",
      "Epoch 47/50\n",
      "2381/2381 [==============================] - 7s 3ms/step - loss: 0.0084 - accuracy: 0.9989\n",
      "Epoch 48/50\n",
      "2381/2381 [==============================] - 7s 3ms/step - loss: 0.0084 - accuracy: 0.9989\n",
      "Epoch 49/50\n",
      "2381/2381 [==============================] - 7s 3ms/step - loss: 0.0084 - accuracy: 0.9989\n",
      "Epoch 50/50\n",
      "2381/2381 [==============================] - 7s 3ms/step - loss: 0.0084 - accuracy: 0.9989\n"
     ]
    }
   ],
   "source": [
    "# Fit the model using 100 epochs and the training data\n",
    "model = nn.fit(X_train_scaled, y_train, epochs=50)"
   ]
  },
  {
   "cell_type": "code",
   "execution_count": 130,
   "id": "0f83f9b7-a02a-440d-b957-3ae0f8fa53bd",
   "metadata": {
    "tags": []
   },
   "outputs": [
    {
     "name": "stdout",
     "output_type": "stream",
     "text": [
      "794/794 - 1s - loss: 0.0085 - accuracy: 0.9989 - 1s/epoch - 2ms/step\n",
      "Loss: 0.008513659238815308, Accuracy: 0.998936653137207\n"
     ]
    }
   ],
   "source": [
    "# Evaluate the model loss and accuracy metrics using the evaluate method and the test data\n",
    "model_loss, model_accuracy = nn.evaluate(X_test_scaled, y_test, verbose=2)\n",
    "\n",
    "# Display the evaluation results\n",
    "print(f\"Loss: {model_loss}, Accuracy: {model_accuracy}\")"
   ]
  },
  {
   "cell_type": "code",
   "execution_count": 131,
   "id": "dbfbf7f1-7464-4e3f-8290-6a32f811d8fd",
   "metadata": {
    "tags": []
   },
   "outputs": [
    {
     "data": {
      "text/plain": [
       "<Axes: >"
      ]
     },
     "execution_count": 131,
     "metadata": {},
     "output_type": "execute_result"
    },
    {
     "data": {
      "image/png": "[encoded data removed]",
      "text/plain": [
       "<Figure size 640x480 with 1 Axes>"
      ]
     },
     "metadata": {},
     "output_type": "display_data"
    }
   ],
   "source": [
    "# Create a DataFrame with the history dictionary\n",
    "df = pd.DataFrame(model.history, index=range(1, len(model.history[\"loss\"]) + 1))\n",
    "\n",
    "# Plot the loss\n",
    "df.plot(y=\"loss\")"
   ]
  },
  {
   "cell_type": "code",
   "execution_count": 132,
   "id": "ec980ac9-3029-4e55-ba06-4dcbc3f33d90",
   "metadata": {
    "tags": []
   },
   "outputs": [
    {
     "data": {
      "text/plain": [
       "<Axes: >"
      ]
     },
     "execution_count": 132,
     "metadata": {},
     "output_type": "execute_result"
    },
    {
     "data": {
      "image/png": "[encoded data removed]",
      "text/plain": [
       "<Figure size 640x480 with 1 Axes>"
      ]
     },
     "metadata": {},
     "output_type": "display_data"
    }
   ],
   "source": [
    "# Plot the accuracy\n",
    "df.plot(y=\"accuracy\")"
   ]
  },
  {
   "cell_type": "code",
   "execution_count": 144,
   "id": "075cfcac-6a62-457b-8d75-b7361b8663ce",
   "metadata": {
    "tags": []
   },
   "outputs": [
    {
     "name": "stdout",
     "output_type": "stream",
     "text": [
      "794/794 [==============================] - 2s 2ms/step\n"
     ]
    },
    {
     "data": {
      "text/html": [
       "<div>\n",
       "<style scoped>\n",
       "    .dataframe tbody tr th:only-of-type {\n",
       "        vertical-align: middle;\n",
       "    }\n",
       "\n",
       "    .dataframe tbody tr th {\n",
       "        vertical-align: top;\n",
       "    }\n",
       "\n",
       "    .dataframe thead th {\n",
       "        text-align: right;\n",
       "    }\n",
       "</style>\n",
       "<table border=\"1\" class=\"dataframe\">\n",
       "  <thead>\n",
       "    <tr style=\"text-align: right;\">\n",
       "      <th></th>\n",
       "      <th>predictions</th>\n",
       "      <th>actual</th>\n",
       "    </tr>\n",
       "    <tr>\n",
       "      <th>Timestamp</th>\n",
       "      <th></th>\n",
       "      <th></th>\n",
       "    </tr>\n",
       "  </thead>\n",
       "  <tbody>\n",
       "    <tr>\n",
       "      <th>2022-09-02 13:01:00</th>\n",
       "      <td>0</td>\n",
       "      <td>0</td>\n",
       "    </tr>\n",
       "    <tr>\n",
       "      <th>2022-09-10 07:09:00</th>\n",
       "      <td>0</td>\n",
       "      <td>0</td>\n",
       "    </tr>\n",
       "    <tr>\n",
       "      <th>2022-09-04 22:38:00</th>\n",
       "      <td>0</td>\n",
       "      <td>0</td>\n",
       "    </tr>\n",
       "    <tr>\n",
       "      <th>2022-09-01 00:01:00</th>\n",
       "      <td>0</td>\n",
       "      <td>0</td>\n",
       "    </tr>\n",
       "    <tr>\n",
       "      <th>2022-09-07 06:24:00</th>\n",
       "      <td>0</td>\n",
       "      <td>0</td>\n",
       "    </tr>\n",
       "    <tr>\n",
       "      <th>...</th>\n",
       "      <td>...</td>\n",
       "      <td>...</td>\n",
       "    </tr>\n",
       "    <tr>\n",
       "      <th>2022-09-06 02:59:00</th>\n",
       "      <td>0</td>\n",
       "      <td>0</td>\n",
       "    </tr>\n",
       "    <tr>\n",
       "      <th>2022-09-01 03:14:00</th>\n",
       "      <td>0</td>\n",
       "      <td>0</td>\n",
       "    </tr>\n",
       "    <tr>\n",
       "      <th>2022-09-09 20:26:00</th>\n",
       "      <td>0</td>\n",
       "      <td>0</td>\n",
       "    </tr>\n",
       "    <tr>\n",
       "      <th>2022-09-04 15:39:00</th>\n",
       "      <td>0</td>\n",
       "      <td>0</td>\n",
       "    </tr>\n",
       "    <tr>\n",
       "      <th>2022-09-02 02:50:00</th>\n",
       "      <td>0</td>\n",
       "      <td>0</td>\n",
       "    </tr>\n",
       "  </tbody>\n",
       "</table>\n",
       "<p>25392 rows × 2 columns</p>\n",
       "</div>"
      ],
      "text/plain": [
       "                     predictions  actual\n",
       "Timestamp                               \n",
       "2022-09-02 13:01:00            0       0\n",
       "2022-09-10 07:09:00            0       0\n",
       "2022-09-04 22:38:00            0       0\n",
       "2022-09-01 00:01:00            0       0\n",
       "2022-09-07 06:24:00            0       0\n",
       "...                          ...     ...\n",
       "2022-09-06 02:59:00            0       0\n",
       "2022-09-01 03:14:00            0       0\n",
       "2022-09-09 20:26:00            0       0\n",
       "2022-09-04 15:39:00            0       0\n",
       "2022-09-02 02:50:00            0       0\n",
       "\n",
       "[25392 rows x 2 columns]"
      ]
     },
     "execution_count": 144,
     "metadata": {},
     "output_type": "execute_result"
    }
   ],
   "source": [
    "# Making predictions\n",
    "predictions_nn = (nn.predict(X_test) > 0.5).astype(\"int32\")\n",
    "\n",
    "results = pd.DataFrame({\"predictions\": predictions_nn.ravel(), \"actual\": y_test})\n",
    "results"
   ]
  },
  {
   "cell_type": "code",
   "execution_count": 145,
   "id": "c61d4ef5-eac6-4d53-8722-faf15f5623a3",
   "metadata": {
    "tags": []
   },
   "outputs": [
    {
     "name": "stdout",
     "output_type": "stream",
     "text": [
      "              precision    recall  f1-score   support\n",
      "\n",
      "           0       1.00      1.00      1.00     25365\n",
      "           1       0.00      0.00      0.00        27\n",
      "\n",
      "    accuracy                           1.00     25392\n",
      "   macro avg       0.50      0.50      0.50     25392\n",
      "weighted avg       1.00      1.00      1.00     25392\n",
      "\n"
     ]
    },
    {
     "name": "stderr",
     "output_type": "stream",
     "text": [
      "C:\\Users\\victo\\anaconda3\\envs\\dev\\lib\\site-packages\\sklearn\\metrics\\_classification.py:1469: UndefinedMetricWarning: Precision and F-score are ill-defined and being set to 0.0 in labels with no predicted samples. Use `zero_division` parameter to control this behavior.\n",
      "  _warn_prf(average, modifier, msg_start, len(result))\n",
      "C:\\Users\\victo\\anaconda3\\envs\\dev\\lib\\site-packages\\sklearn\\metrics\\_classification.py:1469: UndefinedMetricWarning: Precision and F-score are ill-defined and being set to 0.0 in labels with no predicted samples. Use `zero_division` parameter to control this behavior.\n",
      "  _warn_prf(average, modifier, msg_start, len(result))\n",
      "C:\\Users\\victo\\anaconda3\\envs\\dev\\lib\\site-packages\\sklearn\\metrics\\_classification.py:1469: UndefinedMetricWarning: Precision and F-score are ill-defined and being set to 0.0 in labels with no predicted samples. Use `zero_division` parameter to control this behavior.\n",
      "  _warn_prf(average, modifier, msg_start, len(result))\n"
     ]
    }
   ],
   "source": [
    "# Use a classification report to evaluate the model using the predictions and testing data\n",
    "nn_pred_report = classification_report(y_test, predictions_nn)\n",
    "\n",
    "# Print the classification report\n",
    "print(nn_pred_report)"
   ]
  },
  {
   "cell_type": "code",
   "execution_count": 146,
   "id": "1367a02f-62b5-4419-800f-31cb9828bcf1",
   "metadata": {
    "tags": []
   },
   "outputs": [
    {
     "data": {
      "text/plain": [
       "array([[25365,     0],\n",
       "       [   27,     0]], dtype=int64)"
      ]
     },
     "execution_count": 146,
     "metadata": {},
     "output_type": "execute_result"
    }
   ],
   "source": [
    "from sklearn.metrics import confusion_matrix\n",
    "confusion_matrix(y_test, predictions_nn)"
   ]
  },
  {
   "cell_type": "code",
   "execution_count": null,
   "id": "4c7a13b2-f362-489a-a19c-65784c1b8a7b",
   "metadata": {},
   "outputs": [],
   "source": []
  }
 ],
 "metadata": {
  "kernelspec": {
   "display_name": "Python 3 (ipykernel)",
   "language": "python",
   "name": "python3"
  },
  "language_info": {
   "codemirror_mode": {
    "name": "ipython",
    "version": 3
   },
   "file_extension": ".py",
   "mimetype": "text/x-python",
   "name": "python",
   "nbconvert_exporter": "python",
   "pygments_lexer": "ipython3",
   "version": "3.10.12"
  }
 },
 "nbformat": 4,
 "nbformat_minor": 5
}
